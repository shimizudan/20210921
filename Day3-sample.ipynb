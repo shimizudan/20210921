{
 "cells": [
  {
   "cell_type": "code",
   "execution_count": 1,
   "id": "happy-deadline",
   "metadata": {},
   "outputs": [
    {
     "data": {
      "text/plain": [
       "2"
      ]
     },
     "execution_count": 1,
     "metadata": {},
     "output_type": "execute_result"
    }
   ],
   "source": [
    "1+1"
   ]
  },
  {
   "cell_type": "markdown",
   "id": "alternative-chosen",
   "metadata": {},
   "source": [
    "今日は晴れています。"
   ]
  },
  {
   "cell_type": "markdown",
   "id": "clear-combat",
   "metadata": {},
   "source": [
    "#  Day3\n",
    "## 今日は寒いです。\n",
    "### お腹が空きました。，\n",
    "\n",
    "- お腹が空きました。，\n",
    "\n",
    "- お腹が空きました。，\n",
    "\n",
    "- お腹が空きました。，\n",
    "\n",
    "\n",
    "1. お腹が空きました。，\n",
    "\n",
    "1. お腹が空きました。，\n",
    "\n",
    "1. お腹が空きました。，\n",
    "\n",
    "\n",
    "\n",
    "\n",
    "$$123456-7866=a$$\n",
    "\n",
    "\n",
    "$$\\frac12=\\frac24=\\frac{5}{10} \\sqrt2$$\n",
    "\n",
    "\n",
    "\n",
    "$$x=\\frac{-b\\pm\\sqrt{b^2-4ac}}{2a}$$"
   ]
  },
  {
   "cell_type": "markdown",
   "id": "jewish-warner",
   "metadata": {},
   "source": [
    "## 二次方程式を解いてみよう！\n",
    "\n",
    "二次方程式 $ax^2+bx+c=0$を解くと，\n",
    "\n",
    "$$x=\\frac{-b\\pm\\sqrt{b^2-4ac}}{2a}$$\n",
    "\n",
    "となります，$a$，$b$，$c$の値から解を求める。プログラムを書いてみよう。\n",
    "\n",
    "https://qiita.com/fault/items/547cb36153df35cefa8a\n"
   ]
  },
  {
   "cell_type": "code",
   "execution_count": null,
   "id": "suited-watts",
   "metadata": {},
   "outputs": [],
   "source": []
  }
 ],
 "metadata": {
  "kernelspec": {
   "display_name": "Python 3.10.0 64-bit",
   "language": "python",
   "name": "python3100jvsc74a57bd0aee8b7b246df8f9039afb4144a1f6fd8d2ca17a180786b69acc140d282b71a49"
  },
  "language_info": {
   "codemirror_mode": {
    "name": "ipython",
    "version": 3
   },
   "file_extension": ".py",
   "mimetype": "text/x-python",
   "name": "python",
   "nbconvert_exporter": "python",
   "pygments_lexer": "ipython3",
   "version": "3.10.1"
  }
 },
 "nbformat": 4,
 "nbformat_minor": 5
}

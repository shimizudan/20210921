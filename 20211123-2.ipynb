{
 "cells": [
  {
   "cell_type": "markdown",
   "metadata": {},
   "source": [
    "$f(x)=\\arccos(\\exp(-x))$とおくと，\n",
    "\n",
    "$$te^tL(t)=t\\exp(t)(f(t+1/t)-f(t))$$\n",
    "\n",
    "となる。"
   ]
  },
  {
   "cell_type": "code",
   "execution_count": 3,
   "metadata": {},
   "outputs": [
    {
     "data": {
      "text/plain": [
       "f (generic function with 1 method)"
      ]
     },
     "metadata": {},
     "output_type": "display_data"
    }
   ],
   "source": [
    "f(x)=acos(exp(-x))"
   ]
  },
  {
   "cell_type": "code",
   "execution_count": 10,
   "metadata": {},
   "outputs": [
    {
     "data": {
      "text/plain": [
       "g (generic function with 1 method)"
      ]
     },
     "metadata": {},
     "output_type": "display_data"
    }
   ],
   "source": [
    "g(t)=t*exp(t)*(f(t+1/t)-f(t))"
   ]
  },
  {
   "cell_type": "code",
   "execution_count": 14,
   "metadata": {},
   "outputs": [
    {
     "data": {
      "text/plain": [
       "limoo (generic function with 1 method)"
      ]
     },
     "metadata": {},
     "output_type": "display_data"
    }
   ],
   "source": [
    "function limoo(n)\n",
    "    for i=1:n \n",
    "        println(\"g(\",i,\")=\",g(i))\n",
    "    end\n",
    "end\n"
   ]
  },
  {
   "cell_type": "code",
   "execution_count": 17,
   "metadata": {},
   "outputs": [
    {
     "name": "stdout",
     "output_type": "stream",
     "text": [
      "g(1)=0.6550397491804554\n",
      "g(2)=0.7917283641979528\n",
      "g(3)=0.8511906265665163\n",
      "g(4)=0.8849148926764796\n",
      "g(5)=0.9063633050320464\n",
      "g(6)=0.92111206822514\n",
      "g(7)=0.9318550398943797\n",
      "g(8)=0.9400248262421439\n",
      "g(9)=0.9464461551382234\n",
      "g(10)=0.9516258205323264\n",
      "g(11)=0.9558921210241498\n",
      "g(12)=0.9594670245486348\n",
      "g(13)=0.9625059782493366\n",
      "g(14)=0.965121081702631\n",
      "g(15)=0.9673952170939738\n",
      "g(16)=0.9693909990906322\n",
      "g(17)=0.9711565207065719\n",
      "g(18)=0.9727296918494239\n",
      "g(19)=0.9741403969863508\n",
      "g(20)=0.9754109383998318\n"
     ]
    }
   ],
   "source": [
    "limoo(20)"
   ]
  },
  {
   "cell_type": "markdown",
   "metadata": {},
   "source": [
    "1に近づくようである。"
   ]
  },
  {
   "cell_type": "code",
   "execution_count": null,
   "metadata": {},
   "outputs": [],
   "source": []
  }
 ],
 "metadata": {
  "kernelspec": {
   "display_name": "Julia 1.6.3",
   "language": "julia",
   "name": "julia-1.6"
  },
  "language_info": {
   "file_extension": ".jl",
   "mimetype": "application/julia",
   "name": "julia",
   "version": "1.6.3"
  },
  "orig_nbformat": 4
 },
 "nbformat": 4,
 "nbformat_minor": 2
}
